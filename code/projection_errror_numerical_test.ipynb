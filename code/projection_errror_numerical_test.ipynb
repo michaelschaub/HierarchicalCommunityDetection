{
 "cells": [
  {
   "cell_type": "code",
   "execution_count": 2,
   "metadata": {},
   "outputs": [],
   "source": [
    "import numpy as np\n",
    "import scipy\n",
    "import scipy.linalg\n",
    "\n",
    "from matplotlib import pyplot as plt\n",
    "from scipy.stats import ortho_group"
   ]
  },
  {
   "cell_type": "code",
   "execution_count": 64,
   "metadata": {},
   "outputs": [],
   "source": [
    "def test_random_projection(n=5):\n",
    "    \"\"\"Within an n dimensional space, project an orthogonal set of k vectors (a k-dimensional subspace) into a space of dimension n-k\n",
    "    where 1 vector is shared\"\"\"\n",
    "\n",
    "    nsamples = 100\n",
    "\n",
    "    testdim = np.arange(n+1)\n",
    "    meanerror = np.zeros(testdim.size)\n",
    "    stderror = np.zeros(testdim.size)\n",
    "    nr_shared_vectors = 3\n",
    "\n",
    "    for (j, k) in enumerate(testdim):\n",
    "        # create an orthogonal set of random vectors\n",
    "        U = ortho_group.rvs(dim=n)\n",
    "        U = U[:, :k]\n",
    "        error = np.zeros(nsamples)\n",
    "        if k==0:\n",
    "            continue\n",
    "        for i in range(nsamples):\n",
    "            # create k orthogonal vectors\n",
    "            V = ortho_group.rvs(dim=n)\n",
    "            V = V[:, :k]\n",
    "            V[:,:nr_shared_vectors] = U[:,:nr_shared_vectors]\n",
    "            error[i] = calculate_proj_error(U, V, 'F')\n",
    "        meanerror[j] = np.mean(error)\n",
    "        stderror[j] = np.std(error)\n",
    "\n",
    "    expected_error = (testdim-nr_shared_vectors) * (n-testdim) / n\n",
    "    expected_error_as_is = (testdim-nr_shared_vectors) * (n-testdim) / (n-nr_shared_vectors)\n",
    "    plt.figure()\n",
    "    plt.errorbar(testdim, meanerror, stderror)\n",
    "    plt.errorbar(testdim, expected_error)\n",
    "    plt.errorbar(testdim, expected_error_as_is)\n",
    "                                                 "
   ]
  },
  {
   "cell_type": "code",
   "execution_count": 65,
   "metadata": {},
   "outputs": [],
   "source": [
    "def project_orthogonal_to(subspace_basis, vectors_to_project):\n",
    "    \"\"\"\n",
    "    Subspace basis: linearly independent (not necessarily orthogonal or normalized)\n",
    "    vectors that span the space orthogonal to which we want to project\n",
    "    vectors_to_project: project these vectors into the orthogonal complement of the\n",
    "    specified subspace\n",
    "    \"\"\"\n",
    "\n",
    "    if not scipy.sparse.issparse(vectors_to_project):\n",
    "        V = np.matrix(vectors_to_project)\n",
    "    else:\n",
    "        V = vectors_to_project\n",
    "\n",
    "    orthogonal_proj = V - project_to(subspace_basis, V)\n",
    "\n",
    "    return orthogonal_proj\n",
    "\n",
    "def project_to(subspace_basis, vectors_to_project):\n",
    "    \"\"\"\n",
    "    Subspace basis: linearly independent (not necessarily orthogonal or normalized)\n",
    "    vectors that span the space to which we want to project\n",
    "    vectors_to_project: project these vectors into the specified subspace\n",
    "    \"\"\"\n",
    "\n",
    "    if not scipy.sparse.issparse(vectors_to_project):\n",
    "        V = np.matrix(vectors_to_project)\n",
    "    else:\n",
    "        V = vectors_to_project\n",
    "\n",
    "    if not scipy.sparse.issparse(subspace_basis):\n",
    "        S = np.matrix(subspace_basis)\n",
    "    else:\n",
    "        S = subspace_basis\n",
    "\n",
    "    # compute S*(S^T*S)^{-1}*S'*V\n",
    "    X1 = S.T * V\n",
    "    X2 = S.T * S\n",
    "    projected = S * scipy.linalg.solve(X2, X1)\n",
    "\n",
    "    return projected\n",
    "\n",
    "def calculate_proj_error(U, V, norm):\n",
    "    proj1 = project_orthogonal_to(U, V)\n",
    "    error = scipy.linalg.norm(proj1)**2\n",
    "\n",
    "    return error"
   ]
  },
  {
   "cell_type": "code",
   "execution_count": 66,
   "metadata": {},
   "outputs": [
    {
     "data": {
      "image/png": "[encoded data removed]",
      "text/plain": [
       "<Figure size 432x288 with 1 Axes>"
      ]
     },
     "metadata": {
      "needs_background": "light"
     },
     "output_type": "display_data"
    }
   ],
   "source": [
    "test_random_projection()"
   ]
  },
  {
   "cell_type": "code",
   "execution_count": null,
   "metadata": {},
   "outputs": [],
   "source": []
  }
 ],
 "metadata": {
  "kernelspec": {
   "display_name": "Python 3",
   "language": "python",
   "name": "python3"
  },
  "language_info": {
   "codemirror_mode": {
    "name": "ipython",
    "version": 3
   },
   "file_extension": ".py",
   "mimetype": "text/x-python",
   "name": "python",
   "nbconvert_exporter": "python",
   "pygments_lexer": "ipython3",
   "version": "3.7.6"
  }
 },
 "nbformat": 4,
 "nbformat_minor": 4
}
