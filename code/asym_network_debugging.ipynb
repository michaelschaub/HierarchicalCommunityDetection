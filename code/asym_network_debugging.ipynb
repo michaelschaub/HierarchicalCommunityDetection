{
 "cells": [
  {
   "cell_type": "code",
   "execution_count": 1,
   "metadata": {},
   "outputs": [],
   "source": [
    "%matplotlib inline"
   ]
  },
  {
   "cell_type": "code",
   "execution_count": 72,
   "metadata": {},
   "outputs": [
    {
     "name": "stdout",
     "output_type": "stream",
     "text": [
      "Hierarchy Level:  0 | KS Detectable:  True | Link Probabilities in / out per block:  0.004812343623939227 0.001404222944927201\n",
      "[[0.00481234 0.00140422 0.00140422]\n",
      " [0.00140422 0.00481234 0.00140422]\n",
      " [0.00140422 0.00140422 0.00481234]]\n",
      "Hierarchy Level:  1 | KS Detectable:  True | Link Probabilities in / out per block:  0.01022890030331314 0.0021040652842522697\n",
      "[[0.0102289  0.00210407 0.00210407]\n",
      " [0.00210407 0.0102289  0.00210407]\n",
      " [0.00210407 0.00210407 0.0102289 ]]\n",
      "Hierarchy Level:  2 | KS Detectable:  True | Link Probabilities in / out per block:  0.023906820861859683 0.003389940024039868\n",
      "[[0.02390682 0.00338994 0.00338994]\n",
      " [0.00338994 0.02390682 0.00338994]\n",
      " [0.00338994 0.00338994 0.02390682]]\n"
     ]
    }
   ],
   "source": [
    "import GHRGbuild\n",
    "import networkx as nx\n",
    "import numpy as np\n",
    "from __future__ import division\n",
    "import matplotlib.pyplot as plt\n",
    "n = 3**9\n",
    "n_levels = 3\n",
    "groups_per_level = 3\n",
    "c_bar = 50\n",
    "snr = 10\n",
    "\n",
    "D_actual=GHRGbuild.createAsymGHRG(n,snr,c_bar,n_levels,groups_per_level)"
   ]
  },
  {
   "cell_type": "markdown",
   "metadata": {},
   "source": [
    "Are the Omega matrices correct as is?!"
   ]
  },
  {
   "cell_type": "code",
   "execution_count": 73,
   "metadata": {},
   "outputs": [
    {
     "name": "stdout",
     "output_type": "stream",
     "text": [
      "49.574916\n",
      "49.968576\n",
      "49.996278\n"
     ]
    }
   ],
   "source": [
    "#### print D_actual.node[0]\n",
    "# first level split\n",
    "print 3**8*0.001778*2 + 3**8*0.004 # ~50\n",
    "# second level split\n",
    "print 3**8*0.001778*2 + 3**7*0.00239*2 + 3**7*0.0074 \n",
    "# third level split\n",
    "print 3**8*0.001778*2 + 3**7*0.0023945*2 + +3**6*0.0035006*2 + 3**6*0.0152098 "
   ]
  },
  {
   "cell_type": "markdown",
   "metadata": {},
   "source": [
    "The average degree of nodes at first level (should be about 50) -- so the Omega matrix appears to be correct.  \n",
    "Lets print the full dendrogram -- ordering was inversed. Fixed now!"
   ]
  },
  {
   "cell_type": "code",
   "execution_count": 74,
   "metadata": {},
   "outputs": [
    {
     "name": "stdout",
     "output_type": "stream",
     "text": [
      "{'level': 0, 'n': 19683, 'nnodes': array([    0,     1,     2, ..., 19680, 19681, 19682]), 'Nr': array([[       0., 43046721., 43046721.],\n",
      "       [       0.,        0., 43046721.],\n",
      "       [       0.,        0.,        0.]]), 'children': [1, 2, 3], 'Er': array([[    0.        , 60447.19333208, 60447.19333208],\n",
      "       [    0.        ,     0.        , 60447.19333208],\n",
      "       [    0.        ,     0.        ,     0.        ]])}\n",
      "{'level': 1, 'n': 6561, 'nnodes': array([   0,    1,    2, ..., 6558, 6559, 6560]), 'Nr': array([[21520080.]]), 'children': [], 'Er': array([[103562.01977466]])}\n",
      "{'level': 1, 'n': 6561, 'nnodes': array([ 6561,  6562,  6563, ..., 13119, 13120, 13121]), 'Nr': array([[21520080.]]), 'children': [], 'Er': array([[103562.01977466]])}\n",
      "{'level': 1, 'n': 6561, 'nnodes': array([13122, 13123, 13124, ..., 19680, 19681, 19682]), 'Nr': array([[      0., 4782969., 4782969.],\n",
      "       [      0.,       0., 4782969.],\n",
      "       [      0.,       0.,       0.]]), 'children': [4, 5, 6], 'Er': array([[    0.        , 10063.67902855, 10063.67902855],\n",
      "       [    0.        ,     0.        , 10063.67902855],\n",
      "       [    0.        ,     0.        ,     0.        ]])}\n",
      "{'level': 2, 'n': 2187, 'nnodes': array([13122, 13123, 13124, ..., 15306, 15307, 15308]), 'Nr': array([[2390391.]]), 'children': [], 'Er': array([[24451.07122494]])}\n",
      "{'level': 2, 'n': 2187, 'nnodes': array([15309, 15310, 15311, ..., 17493, 17494, 17495]), 'Nr': array([[2390391.]]), 'children': [], 'Er': array([[24451.07122494]])}\n",
      "{'level': 2, 'n': 2187, 'nnodes': array([17496, 17497, 17498, ..., 19680, 19681, 19682]), 'Nr': array([[     0., 531441., 531441.],\n",
      "       [     0.,      0., 531441.],\n",
      "       [     0.,      0.,      0.]]), 'children': [7, 8, 9], 'Er': array([[   0.        , 1801.55311632, 1801.55311632],\n",
      "       [   0.        ,    0.        , 1801.55311632],\n",
      "       [   0.        ,    0.        ,    0.        ]])}\n",
      "{'level': 3, 'n': 729, 'nnodes': array([17496, 17497, 17498, 17499, 17500, 17501, 17502, 17503, 17504,\n",
      "       17505, 17506, 17507, 17508, 17509, 17510, 17511, 17512, 17513,\n",
      "       17514, 17515, 17516, 17517, 17518, 17519, 17520, 17521, 17522,\n",
      "       17523, 17524, 17525, 17526, 17527, 17528, 17529, 17530, 17531,\n",
      "       17532, 17533, 17534, 17535, 17536, 17537, 17538, 17539, 17540,\n",
      "       17541, 17542, 17543, 17544, 17545, 17546, 17547, 17548, 17549,\n",
      "       17550, 17551, 17552, 17553, 17554, 17555, 17556, 17557, 17558,\n",
      "       17559, 17560, 17561, 17562, 17563, 17564, 17565, 17566, 17567,\n",
      "       17568, 17569, 17570, 17571, 17572, 17573, 17574, 17575, 17576,\n",
      "       17577, 17578, 17579, 17580, 17581, 17582, 17583, 17584, 17585,\n",
      "       17586, 17587, 17588, 17589, 17590, 17591, 17592, 17593, 17594,\n",
      "       17595, 17596, 17597, 17598, 17599, 17600, 17601, 17602, 17603,\n",
      "       17604, 17605, 17606, 17607, 17608, 17609, 17610, 17611, 17612,\n",
      "       17613, 17614, 17615, 17616, 17617, 17618, 17619, 17620, 17621,\n",
      "       17622, 17623, 17624, 17625, 17626, 17627, 17628, 17629, 17630,\n",
      "       17631, 17632, 17633, 17634, 17635, 17636, 17637, 17638, 17639,\n",
      "       17640, 17641, 17642, 17643, 17644, 17645, 17646, 17647, 17648,\n",
      "       17649, 17650, 17651, 17652, 17653, 17654, 17655, 17656, 17657,\n",
      "       17658, 17659, 17660, 17661, 17662, 17663, 17664, 17665, 17666,\n",
      "       17667, 17668, 17669, 17670, 17671, 17672, 17673, 17674, 17675,\n",
      "       17676, 17677, 17678, 17679, 17680, 17681, 17682, 17683, 17684,\n",
      "       17685, 17686, 17687, 17688, 17689, 17690, 17691, 17692, 17693,\n",
      "       17694, 17695, 17696, 17697, 17698, 17699, 17700, 17701, 17702,\n",
      "       17703, 17704, 17705, 17706, 17707, 17708, 17709, 17710, 17711,\n",
      "       17712, 17713, 17714, 17715, 17716, 17717, 17718, 17719, 17720,\n",
      "       17721, 17722, 17723, 17724, 17725, 17726, 17727, 17728, 17729,\n",
      "       17730, 17731, 17732, 17733, 17734, 17735, 17736, 17737, 17738,\n",
      "       17739, 17740, 17741, 17742, 17743, 17744, 17745, 17746, 17747,\n",
      "       17748, 17749, 17750, 17751, 17752, 17753, 17754, 17755, 17756,\n",
      "       17757, 17758, 17759, 17760, 17761, 17762, 17763, 17764, 17765,\n",
      "       17766, 17767, 17768, 17769, 17770, 17771, 17772, 17773, 17774,\n",
      "       17775, 17776, 17777, 17778, 17779, 17780, 17781, 17782, 17783,\n",
      "       17784, 17785, 17786, 17787, 17788, 17789, 17790, 17791, 17792,\n",
      "       17793, 17794, 17795, 17796, 17797, 17798, 17799, 17800, 17801,\n",
      "       17802, 17803, 17804, 17805, 17806, 17807, 17808, 17809, 17810,\n",
      "       17811, 17812, 17813, 17814, 17815, 17816, 17817, 17818, 17819,\n",
      "       17820, 17821, 17822, 17823, 17824, 17825, 17826, 17827, 17828,\n",
      "       17829, 17830, 17831, 17832, 17833, 17834, 17835, 17836, 17837,\n",
      "       17838, 17839, 17840, 17841, 17842, 17843, 17844, 17845, 17846,\n",
      "       17847, 17848, 17849, 17850, 17851, 17852, 17853, 17854, 17855,\n",
      "       17856, 17857, 17858, 17859, 17860, 17861, 17862, 17863, 17864,\n",
      "       17865, 17866, 17867, 17868, 17869, 17870, 17871, 17872, 17873,\n",
      "       17874, 17875, 17876, 17877, 17878, 17879, 17880, 17881, 17882,\n",
      "       17883, 17884, 17885, 17886, 17887, 17888, 17889, 17890, 17891,\n",
      "       17892, 17893, 17894, 17895, 17896, 17897, 17898, 17899, 17900,\n",
      "       17901, 17902, 17903, 17904, 17905, 17906, 17907, 17908, 17909,\n",
      "       17910, 17911, 17912, 17913, 17914, 17915, 17916, 17917, 17918,\n",
      "       17919, 17920, 17921, 17922, 17923, 17924, 17925, 17926, 17927,\n",
      "       17928, 17929, 17930, 17931, 17932, 17933, 17934, 17935, 17936,\n",
      "       17937, 17938, 17939, 17940, 17941, 17942, 17943, 17944, 17945,\n",
      "       17946, 17947, 17948, 17949, 17950, 17951, 17952, 17953, 17954,\n",
      "       17955, 17956, 17957, 17958, 17959, 17960, 17961, 17962, 17963,\n",
      "       17964, 17965, 17966, 17967, 17968, 17969, 17970, 17971, 17972,\n",
      "       17973, 17974, 17975, 17976, 17977, 17978, 17979, 17980, 17981,\n",
      "       17982, 17983, 17984, 17985, 17986, 17987, 17988, 17989, 17990,\n",
      "       17991, 17992, 17993, 17994, 17995, 17996, 17997, 17998, 17999,\n",
      "       18000, 18001, 18002, 18003, 18004, 18005, 18006, 18007, 18008,\n",
      "       18009, 18010, 18011, 18012, 18013, 18014, 18015, 18016, 18017,\n",
      "       18018, 18019, 18020, 18021, 18022, 18023, 18024, 18025, 18026,\n",
      "       18027, 18028, 18029, 18030, 18031, 18032, 18033, 18034, 18035,\n",
      "       18036, 18037, 18038, 18039, 18040, 18041, 18042, 18043, 18044,\n",
      "       18045, 18046, 18047, 18048, 18049, 18050, 18051, 18052, 18053,\n",
      "       18054, 18055, 18056, 18057, 18058, 18059, 18060, 18061, 18062,\n",
      "       18063, 18064, 18065, 18066, 18067, 18068, 18069, 18070, 18071,\n",
      "       18072, 18073, 18074, 18075, 18076, 18077, 18078, 18079, 18080,\n",
      "       18081, 18082, 18083, 18084, 18085, 18086, 18087, 18088, 18089,\n",
      "       18090, 18091, 18092, 18093, 18094, 18095, 18096, 18097, 18098,\n",
      "       18099, 18100, 18101, 18102, 18103, 18104, 18105, 18106, 18107,\n",
      "       18108, 18109, 18110, 18111, 18112, 18113, 18114, 18115, 18116,\n",
      "       18117, 18118, 18119, 18120, 18121, 18122, 18123, 18124, 18125,\n",
      "       18126, 18127, 18128, 18129, 18130, 18131, 18132, 18133, 18134,\n",
      "       18135, 18136, 18137, 18138, 18139, 18140, 18141, 18142, 18143,\n",
      "       18144, 18145, 18146, 18147, 18148, 18149, 18150, 18151, 18152,\n",
      "       18153, 18154, 18155, 18156, 18157, 18158, 18159, 18160, 18161,\n",
      "       18162, 18163, 18164, 18165, 18166, 18167, 18168, 18169, 18170,\n",
      "       18171, 18172, 18173, 18174, 18175, 18176, 18177, 18178, 18179,\n",
      "       18180, 18181, 18182, 18183, 18184, 18185, 18186, 18187, 18188,\n",
      "       18189, 18190, 18191, 18192, 18193, 18194, 18195, 18196, 18197,\n",
      "       18198, 18199, 18200, 18201, 18202, 18203, 18204, 18205, 18206,\n",
      "       18207, 18208, 18209, 18210, 18211, 18212, 18213, 18214, 18215,\n",
      "       18216, 18217, 18218, 18219, 18220, 18221, 18222, 18223, 18224]), 'Nr': array([[265356.]]), 'children': [], 'Er': array([[6343.81835662]])}\n",
      "{'level': 3, 'n': 729, 'nnodes': array([18225, 18226, 18227, 18228, 18229, 18230, 18231, 18232, 18233,\n",
      "       18234, 18235, 18236, 18237, 18238, 18239, 18240, 18241, 18242,\n",
      "       18243, 18244, 18245, 18246, 18247, 18248, 18249, 18250, 18251,\n",
      "       18252, 18253, 18254, 18255, 18256, 18257, 18258, 18259, 18260,\n",
      "       18261, 18262, 18263, 18264, 18265, 18266, 18267, 18268, 18269,\n",
      "       18270, 18271, 18272, 18273, 18274, 18275, 18276, 18277, 18278,\n",
      "       18279, 18280, 18281, 18282, 18283, 18284, 18285, 18286, 18287,\n",
      "       18288, 18289, 18290, 18291, 18292, 18293, 18294, 18295, 18296,\n",
      "       18297, 18298, 18299, 18300, 18301, 18302, 18303, 18304, 18305,\n",
      "       18306, 18307, 18308, 18309, 18310, 18311, 18312, 18313, 18314,\n",
      "       18315, 18316, 18317, 18318, 18319, 18320, 18321, 18322, 18323,\n",
      "       18324, 18325, 18326, 18327, 18328, 18329, 18330, 18331, 18332,\n",
      "       18333, 18334, 18335, 18336, 18337, 18338, 18339, 18340, 18341,\n",
      "       18342, 18343, 18344, 18345, 18346, 18347, 18348, 18349, 18350,\n",
      "       18351, 18352, 18353, 18354, 18355, 18356, 18357, 18358, 18359,\n",
      "       18360, 18361, 18362, 18363, 18364, 18365, 18366, 18367, 18368,\n",
      "       18369, 18370, 18371, 18372, 18373, 18374, 18375, 18376, 18377,\n",
      "       18378, 18379, 18380, 18381, 18382, 18383, 18384, 18385, 18386,\n",
      "       18387, 18388, 18389, 18390, 18391, 18392, 18393, 18394, 18395,\n",
      "       18396, 18397, 18398, 18399, 18400, 18401, 18402, 18403, 18404,\n",
      "       18405, 18406, 18407, 18408, 18409, 18410, 18411, 18412, 18413,\n",
      "       18414, 18415, 18416, 18417, 18418, 18419, 18420, 18421, 18422,\n",
      "       18423, 18424, 18425, 18426, 18427, 18428, 18429, 18430, 18431,\n",
      "       18432, 18433, 18434, 18435, 18436, 18437, 18438, 18439, 18440,\n",
      "       18441, 18442, 18443, 18444, 18445, 18446, 18447, 18448, 18449,\n",
      "       18450, 18451, 18452, 18453, 18454, 18455, 18456, 18457, 18458,\n",
      "       18459, 18460, 18461, 18462, 18463, 18464, 18465, 18466, 18467,\n",
      "       18468, 18469, 18470, 18471, 18472, 18473, 18474, 18475, 18476,\n",
      "       18477, 18478, 18479, 18480, 18481, 18482, 18483, 18484, 18485,\n",
      "       18486, 18487, 18488, 18489, 18490, 18491, 18492, 18493, 18494,\n",
      "       18495, 18496, 18497, 18498, 18499, 18500, 18501, 18502, 18503,\n",
      "       18504, 18505, 18506, 18507, 18508, 18509, 18510, 18511, 18512,\n",
      "       18513, 18514, 18515, 18516, 18517, 18518, 18519, 18520, 18521,\n",
      "       18522, 18523, 18524, 18525, 18526, 18527, 18528, 18529, 18530,\n",
      "       18531, 18532, 18533, 18534, 18535, 18536, 18537, 18538, 18539,\n",
      "       18540, 18541, 18542, 18543, 18544, 18545, 18546, 18547, 18548,\n",
      "       18549, 18550, 18551, 18552, 18553, 18554, 18555, 18556, 18557,\n",
      "       18558, 18559, 18560, 18561, 18562, 18563, 18564, 18565, 18566,\n",
      "       18567, 18568, 18569, 18570, 18571, 18572, 18573, 18574, 18575,\n",
      "       18576, 18577, 18578, 18579, 18580, 18581, 18582, 18583, 18584,\n",
      "       18585, 18586, 18587, 18588, 18589, 18590, 18591, 18592, 18593,\n",
      "       18594, 18595, 18596, 18597, 18598, 18599, 18600, 18601, 18602,\n",
      "       18603, 18604, 18605, 18606, 18607, 18608, 18609, 18610, 18611,\n",
      "       18612, 18613, 18614, 18615, 18616, 18617, 18618, 18619, 18620,\n",
      "       18621, 18622, 18623, 18624, 18625, 18626, 18627, 18628, 18629,\n",
      "       18630, 18631, 18632, 18633, 18634, 18635, 18636, 18637, 18638,\n",
      "       18639, 18640, 18641, 18642, 18643, 18644, 18645, 18646, 18647,\n",
      "       18648, 18649, 18650, 18651, 18652, 18653, 18654, 18655, 18656,\n",
      "       18657, 18658, 18659, 18660, 18661, 18662, 18663, 18664, 18665,\n",
      "       18666, 18667, 18668, 18669, 18670, 18671, 18672, 18673, 18674,\n",
      "       18675, 18676, 18677, 18678, 18679, 18680, 18681, 18682, 18683,\n",
      "       18684, 18685, 18686, 18687, 18688, 18689, 18690, 18691, 18692,\n",
      "       18693, 18694, 18695, 18696, 18697, 18698, 18699, 18700, 18701,\n",
      "       18702, 18703, 18704, 18705, 18706, 18707, 18708, 18709, 18710,\n",
      "       18711, 18712, 18713, 18714, 18715, 18716, 18717, 18718, 18719,\n",
      "       18720, 18721, 18722, 18723, 18724, 18725, 18726, 18727, 18728,\n",
      "       18729, 18730, 18731, 18732, 18733, 18734, 18735, 18736, 18737,\n",
      "       18738, 18739, 18740, 18741, 18742, 18743, 18744, 18745, 18746,\n",
      "       18747, 18748, 18749, 18750, 18751, 18752, 18753, 18754, 18755,\n",
      "       18756, 18757, 18758, 18759, 18760, 18761, 18762, 18763, 18764,\n",
      "       18765, 18766, 18767, 18768, 18769, 18770, 18771, 18772, 18773,\n",
      "       18774, 18775, 18776, 18777, 18778, 18779, 18780, 18781, 18782,\n",
      "       18783, 18784, 18785, 18786, 18787, 18788, 18789, 18790, 18791,\n",
      "       18792, 18793, 18794, 18795, 18796, 18797, 18798, 18799, 18800,\n",
      "       18801, 18802, 18803, 18804, 18805, 18806, 18807, 18808, 18809,\n",
      "       18810, 18811, 18812, 18813, 18814, 18815, 18816, 18817, 18818,\n",
      "       18819, 18820, 18821, 18822, 18823, 18824, 18825, 18826, 18827,\n",
      "       18828, 18829, 18830, 18831, 18832, 18833, 18834, 18835, 18836,\n",
      "       18837, 18838, 18839, 18840, 18841, 18842, 18843, 18844, 18845,\n",
      "       18846, 18847, 18848, 18849, 18850, 18851, 18852, 18853, 18854,\n",
      "       18855, 18856, 18857, 18858, 18859, 18860, 18861, 18862, 18863,\n",
      "       18864, 18865, 18866, 18867, 18868, 18869, 18870, 18871, 18872,\n",
      "       18873, 18874, 18875, 18876, 18877, 18878, 18879, 18880, 18881,\n",
      "       18882, 18883, 18884, 18885, 18886, 18887, 18888, 18889, 18890,\n",
      "       18891, 18892, 18893, 18894, 18895, 18896, 18897, 18898, 18899,\n",
      "       18900, 18901, 18902, 18903, 18904, 18905, 18906, 18907, 18908,\n",
      "       18909, 18910, 18911, 18912, 18913, 18914, 18915, 18916, 18917,\n",
      "       18918, 18919, 18920, 18921, 18922, 18923, 18924, 18925, 18926,\n",
      "       18927, 18928, 18929, 18930, 18931, 18932, 18933, 18934, 18935,\n",
      "       18936, 18937, 18938, 18939, 18940, 18941, 18942, 18943, 18944,\n",
      "       18945, 18946, 18947, 18948, 18949, 18950, 18951, 18952, 18953]), 'Nr': array([[265356.]]), 'children': [], 'Er': array([[6343.81835662]])}\n",
      "{'level': 3, 'n': 729, 'nnodes': array([18954, 18955, 18956, 18957, 18958, 18959, 18960, 18961, 18962,\n",
      "       18963, 18964, 18965, 18966, 18967, 18968, 18969, 18970, 18971,\n",
      "       18972, 18973, 18974, 18975, 18976, 18977, 18978, 18979, 18980,\n",
      "       18981, 18982, 18983, 18984, 18985, 18986, 18987, 18988, 18989,\n",
      "       18990, 18991, 18992, 18993, 18994, 18995, 18996, 18997, 18998,\n",
      "       18999, 19000, 19001, 19002, 19003, 19004, 19005, 19006, 19007,\n",
      "       19008, 19009, 19010, 19011, 19012, 19013, 19014, 19015, 19016,\n",
      "       19017, 19018, 19019, 19020, 19021, 19022, 19023, 19024, 19025,\n",
      "       19026, 19027, 19028, 19029, 19030, 19031, 19032, 19033, 19034,\n",
      "       19035, 19036, 19037, 19038, 19039, 19040, 19041, 19042, 19043,\n",
      "       19044, 19045, 19046, 19047, 19048, 19049, 19050, 19051, 19052,\n",
      "       19053, 19054, 19055, 19056, 19057, 19058, 19059, 19060, 19061,\n",
      "       19062, 19063, 19064, 19065, 19066, 19067, 19068, 19069, 19070,\n",
      "       19071, 19072, 19073, 19074, 19075, 19076, 19077, 19078, 19079,\n",
      "       19080, 19081, 19082, 19083, 19084, 19085, 19086, 19087, 19088,\n",
      "       19089, 19090, 19091, 19092, 19093, 19094, 19095, 19096, 19097,\n",
      "       19098, 19099, 19100, 19101, 19102, 19103, 19104, 19105, 19106,\n",
      "       19107, 19108, 19109, 19110, 19111, 19112, 19113, 19114, 19115,\n",
      "       19116, 19117, 19118, 19119, 19120, 19121, 19122, 19123, 19124,\n",
      "       19125, 19126, 19127, 19128, 19129, 19130, 19131, 19132, 19133,\n",
      "       19134, 19135, 19136, 19137, 19138, 19139, 19140, 19141, 19142,\n",
      "       19143, 19144, 19145, 19146, 19147, 19148, 19149, 19150, 19151,\n",
      "       19152, 19153, 19154, 19155, 19156, 19157, 19158, 19159, 19160,\n",
      "       19161, 19162, 19163, 19164, 19165, 19166, 19167, 19168, 19169,\n",
      "       19170, 19171, 19172, 19173, 19174, 19175, 19176, 19177, 19178,\n",
      "       19179, 19180, 19181, 19182, 19183, 19184, 19185, 19186, 19187,\n",
      "       19188, 19189, 19190, 19191, 19192, 19193, 19194, 19195, 19196,\n",
      "       19197, 19198, 19199, 19200, 19201, 19202, 19203, 19204, 19205,\n",
      "       19206, 19207, 19208, 19209, 19210, 19211, 19212, 19213, 19214,\n",
      "       19215, 19216, 19217, 19218, 19219, 19220, 19221, 19222, 19223,\n",
      "       19224, 19225, 19226, 19227, 19228, 19229, 19230, 19231, 19232,\n",
      "       19233, 19234, 19235, 19236, 19237, 19238, 19239, 19240, 19241,\n",
      "       19242, 19243, 19244, 19245, 19246, 19247, 19248, 19249, 19250,\n",
      "       19251, 19252, 19253, 19254, 19255, 19256, 19257, 19258, 19259,\n",
      "       19260, 19261, 19262, 19263, 19264, 19265, 19266, 19267, 19268,\n",
      "       19269, 19270, 19271, 19272, 19273, 19274, 19275, 19276, 19277,\n",
      "       19278, 19279, 19280, 19281, 19282, 19283, 19284, 19285, 19286,\n",
      "       19287, 19288, 19289, 19290, 19291, 19292, 19293, 19294, 19295,\n",
      "       19296, 19297, 19298, 19299, 19300, 19301, 19302, 19303, 19304,\n",
      "       19305, 19306, 19307, 19308, 19309, 19310, 19311, 19312, 19313,\n",
      "       19314, 19315, 19316, 19317, 19318, 19319, 19320, 19321, 19322,\n",
      "       19323, 19324, 19325, 19326, 19327, 19328, 19329, 19330, 19331,\n",
      "       19332, 19333, 19334, 19335, 19336, 19337, 19338, 19339, 19340,\n",
      "       19341, 19342, 19343, 19344, 19345, 19346, 19347, 19348, 19349,\n",
      "       19350, 19351, 19352, 19353, 19354, 19355, 19356, 19357, 19358,\n",
      "       19359, 19360, 19361, 19362, 19363, 19364, 19365, 19366, 19367,\n",
      "       19368, 19369, 19370, 19371, 19372, 19373, 19374, 19375, 19376,\n",
      "       19377, 19378, 19379, 19380, 19381, 19382, 19383, 19384, 19385,\n",
      "       19386, 19387, 19388, 19389, 19390, 19391, 19392, 19393, 19394,\n",
      "       19395, 19396, 19397, 19398, 19399, 19400, 19401, 19402, 19403,\n",
      "       19404, 19405, 19406, 19407, 19408, 19409, 19410, 19411, 19412,\n",
      "       19413, 19414, 19415, 19416, 19417, 19418, 19419, 19420, 19421,\n",
      "       19422, 19423, 19424, 19425, 19426, 19427, 19428, 19429, 19430,\n",
      "       19431, 19432, 19433, 19434, 19435, 19436, 19437, 19438, 19439,\n",
      "       19440, 19441, 19442, 19443, 19444, 19445, 19446, 19447, 19448,\n",
      "       19449, 19450, 19451, 19452, 19453, 19454, 19455, 19456, 19457,\n",
      "       19458, 19459, 19460, 19461, 19462, 19463, 19464, 19465, 19466,\n",
      "       19467, 19468, 19469, 19470, 19471, 19472, 19473, 19474, 19475,\n",
      "       19476, 19477, 19478, 19479, 19480, 19481, 19482, 19483, 19484,\n",
      "       19485, 19486, 19487, 19488, 19489, 19490, 19491, 19492, 19493,\n",
      "       19494, 19495, 19496, 19497, 19498, 19499, 19500, 19501, 19502,\n",
      "       19503, 19504, 19505, 19506, 19507, 19508, 19509, 19510, 19511,\n",
      "       19512, 19513, 19514, 19515, 19516, 19517, 19518, 19519, 19520,\n",
      "       19521, 19522, 19523, 19524, 19525, 19526, 19527, 19528, 19529,\n",
      "       19530, 19531, 19532, 19533, 19534, 19535, 19536, 19537, 19538,\n",
      "       19539, 19540, 19541, 19542, 19543, 19544, 19545, 19546, 19547,\n",
      "       19548, 19549, 19550, 19551, 19552, 19553, 19554, 19555, 19556,\n",
      "       19557, 19558, 19559, 19560, 19561, 19562, 19563, 19564, 19565,\n",
      "       19566, 19567, 19568, 19569, 19570, 19571, 19572, 19573, 19574,\n",
      "       19575, 19576, 19577, 19578, 19579, 19580, 19581, 19582, 19583,\n",
      "       19584, 19585, 19586, 19587, 19588, 19589, 19590, 19591, 19592,\n",
      "       19593, 19594, 19595, 19596, 19597, 19598, 19599, 19600, 19601,\n",
      "       19602, 19603, 19604, 19605, 19606, 19607, 19608, 19609, 19610,\n",
      "       19611, 19612, 19613, 19614, 19615, 19616, 19617, 19618, 19619,\n",
      "       19620, 19621, 19622, 19623, 19624, 19625, 19626, 19627, 19628,\n",
      "       19629, 19630, 19631, 19632, 19633, 19634, 19635, 19636, 19637,\n",
      "       19638, 19639, 19640, 19641, 19642, 19643, 19644, 19645, 19646,\n",
      "       19647, 19648, 19649, 19650, 19651, 19652, 19653, 19654, 19655,\n",
      "       19656, 19657, 19658, 19659, 19660, 19661, 19662, 19663, 19664,\n",
      "       19665, 19666, 19667, 19668, 19669, 19670, 19671, 19672, 19673,\n",
      "       19674, 19675, 19676, 19677, 19678, 19679, 19680, 19681, 19682]), 'Nr': array([[265356.]]), 'children': [], 'Er': array([[6343.81835662]])}\n"
     ]
    }
   ],
   "source": [
    "for node in D_actual.nodes():\n",
    "    print D_actual.node[node]"
   ]
  },
  {
   "cell_type": "markdown",
   "metadata": {},
   "source": [
    "Dendrogram looks mostly correct. Some quick checks"
   ]
  },
  {
   "cell_type": "code",
   "execution_count": 75,
   "metadata": {},
   "outputs": [
    {
     "name": "stdout",
     "output_type": "stream",
     "text": [
      "265356.0\n",
      "4033.4112\n"
     ]
    }
   ],
   "source": [
    "# last level should be Nr and Er\n",
    "print 729*(729-1)/2\n",
    "print 729*(729-1)/2 * 0.0152"
   ]
  },
  {
   "cell_type": "code",
   "execution_count": 104,
   "metadata": {},
   "outputs": [
    {
     "data": {
      "text/plain": [
       "<matplotlib.image.AxesImage at 0x7fe900359510>"
      ]
     },
     "execution_count": 104,
     "metadata": {},
     "output_type": "execute_result"
    },
    {
     "data": {
      "image/png": "[encoded data removed]",
      "text/plain": [
       "<Figure size 432x288 with 1 Axes>"
      ]
     },
     "metadata": {
      "needs_background": "light"
     },
     "output_type": "display_data"
    },
    {
     "data": {
      "image/png": "[encoded data removed]",
      "text/plain": [
       "<Figure size 432x288 with 1 Axes>"
      ]
     },
     "metadata": {
      "needs_background": "light"
     },
     "output_type": "display_data"
    }
   ],
   "source": [
    "omega = D_actual.construct_full_block_params()\n",
    "for part in D_actual.get_partition_all():\n",
    "    plt.plot(part)\n",
    "\n",
    "plt.figure()\n",
    "plt.imshow(omega)"
   ]
  },
  {
   "cell_type": "code",
   "execution_count": 81,
   "metadata": {},
   "outputs": [],
   "source": [
    "g = D_actual.generateNetworkExactProb()"
   ]
  },
  {
   "cell_type": "code",
   "execution_count": 32,
   "metadata": {},
   "outputs": [],
   "source": [
    "A=D_actual.to_scipy_sparse_matrix(g)"
   ]
  },
  {
   "cell_type": "code",
   "execution_count": 107,
   "metadata": {},
   "outputs": [
    {
     "data": {
      "text/plain": [
       "[1, 2, 3]"
      ]
     },
     "execution_count": 107,
     "metadata": {},
     "output_type": "execute_result"
    },
    {
     "data": {
      "image/png": "[encoded data removed]",
      "text/plain": [
       "<Figure size 432x288 with 1 Axes>"
      ]
     },
     "metadata": {
      "needs_background": "light"
     },
     "output_type": "display_data"
    },
    {
     "data": {
      "image/png": "[encoded data removed]",
      "text/plain": [
       "<Figure size 432x288 with 1 Axes>"
      ]
     },
     "metadata": {
      "needs_background": "light"
     },
     "output_type": "display_data"
    },
    {
     "data": {
      "image/png": "[encoded data removed]",
      "text/plain": [
       "<Figure size 432x288 with 2 Axes>"
      ]
     },
     "metadata": {
      "needs_background": "light"
     },
     "output_type": "display_data"
    }
   ],
   "source": [
    "import helperfunctions\n",
    "pvec = D_actual.get_partition_at_level(-1)[0]\n",
    "plt.figure()\n",
    "plt.plot(A.sum(axis=1))\n",
    "plt.figure()\n",
    "plt.plot(pvec)\n",
    "\n",
    "H = helperfunctions.create_partition_matrix_from_vector(pvec)\n",
    "Omegahat = H.T*A*H / (H.T.sum(axis=1)* H.T.sum(axis=1).T)\n",
    "plt.figure()\n",
    "plt.imshow(Omegahat.A)\n",
    "plt.colorbar()\n",
    "\n",
    "D_actual.node[0]['children']"
   ]
  },
  {
   "cell_type": "code",
   "execution_count": null,
   "metadata": {},
   "outputs": [],
   "source": []
  }
 ],
 "metadata": {
  "kernelspec": {
   "display_name": "Python 2",
   "language": "python",
   "name": "python2"
  },
  "language_info": {
   "codemirror_mode": {
    "name": "ipython",
    "version": 2
   },
   "file_extension": ".py",
   "mimetype": "text/x-python",
   "name": "python",
   "nbconvert_exporter": "python",
   "pygments_lexer": "ipython2",
   "version": "2.7.16"
  }
 },
 "nbformat": 4,
 "nbformat_minor": 2
}
