{
 "cells": [
  {
   "cell_type": "code",
   "execution_count": null,
   "metadata": {},
   "outputs": [],
   "source": [
    "import numpy as np\n",
    "from matplotlib import pyplot as plt\n",
    "from scipy import sparse\n",
    "import inference\n",
    "import cluster\n",
    "import generation\n",
    "\n",
    "%load_ext autoreload\n",
    "%autoreload 2"
   ]
  },
  {
   "cell_type": "code",
   "execution_count": null,
   "metadata": {},
   "outputs": [],
   "source": [
    "# Matplotlib settings\n",
    "\n",
    "basic_line_color = '#808080'\n",
    "black = '#222222'\n",
    "darkgray = '#A9A9A9'\n",
    "highlight = '#00B2EE'\n",
    "\n",
    "color0 = '#1f78b4'\n",
    "color1 = '#b2df8a'\n",
    "color2 = '#a6cee3'\n",
    "\n",
    "plt.rc('figure', figsize=(8, 5))\n",
    "plt.rc('font', size=16)\n",
    "plt.rc('font', family='sans-serif')\n",
    "plt.rcParams['font.sans-serif'] = 'Arial'\n",
    "plt.rcParams['lines.linewidth'] = 4\n",
    "plt.rcParams['axes.spines.right'] = False\n",
    "plt.rcParams['axes.spines.top'] = False\n",
    "plt.rcParams['axes.edgecolor'] = basic_line_color\n",
    "plt.rcParams['xtick.color'] = basic_line_color\n",
    "plt.rcParams['ytick.color'] = basic_line_color\n",
    "plt.rcParams['axes.labelsize'] = 'large'\n",
    "plt.rcParams['lines.markersize'] = 12\n",
    "\n",
    "%config InlineBackend.figure_format = 'retina'"
   ]
  },
  {
   "cell_type": "code",
   "execution_count": null,
   "metadata": {},
   "outputs": [],
   "source": [
    "n = 3**8\n",
    "snr = 7\n",
    "cbar = 40\n",
    "n_levels = 1\n",
    "groups_per_level = 27\n",
    "\n",
    "graph = generation.create2paramGHRG(n,snr,cbar,n_levels,groups_per_level)\n",
    "A = graph.sample_network()"
   ]
  },
  {
   "cell_type": "code",
   "execution_count": null,
   "metadata": {},
   "outputs": [],
   "source": [
    "hier = inference.infer_hierarchy(A)"
   ]
  },
  {
   "cell_type": "code",
   "execution_count": null,
   "metadata": {},
   "outputs": [],
   "source": [
    "Ks = np.arange(1,28)\n",
    "partition = hier[0]\n",
    "Eagg, Nagg = partition.count_links_between_groups(A)\n",
    "Aagg = Eagg / Nagg\n",
    "partition_list, all_errors = inference.identify_next_level(Aagg, Ks, reps=1000)"
   ]
  },
  {
   "cell_type": "code",
   "execution_count": null,
   "metadata": {},
   "outputs": [],
   "source": [
    "fig = plt.figure(figsize=(21, 5))\n",
    "widths = [5, 8, 8]\n",
    "heights = [5]\n",
    "spec5 = fig.add_gridspec(ncols=3, nrows=1, width_ratios=widths,\n",
    "                           height_ratios=heights)\n",
    "row = 0\n",
    "col=0\n",
    "ax = fig.add_subplot(spec5[row, col])\n",
    "\n",
    "plt.spy(A, ms=.01, rasterized=True, color=color0)\n",
    "plt.xticks([])\n",
    "plt.yticks([])\n",
    "plt.xlabel('Adjacency matrix')\n",
    "ax.annotate('A', (-0.11, 1), xycoords='axes fraction', va='center', size=26, weight='bold')\n",
    "\n",
    "col=1\n",
    "ax = fig.add_subplot(spec5[row, col])\n",
    "# plot expected error\n",
    "errs = []\n",
    "err0 = inference.expected_errors_random_projection([1,27])\n",
    "x = np.arange(1,28)\n",
    "plt.plot(x, err0, ':', color=color2)\n",
    "plt.plot(x,np.max(all_errors,axis=1))\n",
    "\n",
    "plt.xlabel(r'Number of groups $k$')\n",
    "plt.ylabel(r'Projection error $\\epsilon$')\n",
    "plt.legend([r'$\\epsilon_0(k)$',r'$\\max\\;\\epsilon(k)$'], frameon=False)\n",
    "ax.annotate('B', (-0.11, 1), xycoords='axes fraction', va='center', size=26, weight='bold')\n",
    "\n",
    "\n",
    "\n",
    "col=2\n",
    "ax = fig.add_subplot(spec5[row, col])\n",
    "\n",
    "norm_errors = np.zeros_like(all_errors)\n",
    "for i in range(np.shape(norm_errors)[1]):\n",
    "    norm_errors[:,i] = all_errors[:,i]/err0\n",
    "norm_errors[0] = 1\n",
    "norm_errors[-1] = 1\n",
    "\n",
    "k1 = 2\n",
    "k2 = 8\n",
    "k3 = 14\n",
    "\n",
    "max_error0 = np.max(norm_errors[k1])\n",
    "max_error1 = np.max(norm_errors[k2])\n",
    "max_error2 = np.max(norm_errors[k3])\n",
    "\n",
    "plt.hist(norm_errors[k1], color=color0, label=f'$k={Ks[k1]}$')\n",
    "plt.hist(norm_errors[k2], color=color1, label=f'$k={Ks[k2]}$')\n",
    "plt.hist(norm_errors[k3], color=color2, label=f'$k={Ks[k3]}$')\n",
    "\n",
    "plt.axvline(max_error0, ls=':', color=color0, lw=3)\n",
    "plt.axvline(max_error1, ls=':', color=color1, lw=3)\n",
    "plt.axvline(max_error2, ls=':', color=color2, lw=3)\n",
    "\n",
    "plt.plot([norm_errors[k1][-1],norm_errors[k1][-1]], [0,200], ls='--', color=color0, lw=3)\n",
    "plt.plot([norm_errors[k2][-1],norm_errors[k2][-1]], [0,200], ls='--', color=color1, lw=3)\n",
    "plt.plot([norm_errors[k3][-1],norm_errors[k3][-1]], [0,200], ls='--', color=color2, lw=3)\n",
    "\n",
    "plt.axvline(0.2, color='k', lw=2, label='significance threshold')\n",
    "plt.xlim(0,max_error1+0.1)\n",
    "plt.xlabel('Relative projection error')\n",
    "plt.ylabel('frequency')\n",
    "plt.legend(frameon=False, loc=9)\n",
    "ax.annotate('C', (-0.12, 1), xycoords='axes fraction', va='center', size=26, weight='bold')\n",
    "\n",
    "fig.tight_layout()\n",
    "plt.savefig('model_select_degenerate.pdf')"
   ]
  },
  {
   "cell_type": "code",
   "execution_count": null,
   "metadata": {},
   "outputs": [],
   "source": []
  }
 ],
 "metadata": {
  "kernelspec": {
   "display_name": "Python 3",
   "language": "python",
   "name": "python3"
  },
  "language_info": {
   "codemirror_mode": {
    "name": "ipython",
    "version": 3
   },
   "file_extension": ".py",
   "mimetype": "text/x-python",
   "name": "python",
   "nbconvert_exporter": "python",
   "pygments_lexer": "ipython3",
   "version": "3.6.9"
  }
 },
 "nbformat": 4,
 "nbformat_minor": 4
}
